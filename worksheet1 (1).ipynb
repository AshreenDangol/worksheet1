{
  "metadata": {
    "kernelspec": {
      "name": "python",
      "display_name": "Python (Pyodide)",
      "language": "python"
    },
    "language_info": {
      "codemirror_mode": {
        "name": "python",
        "version": 3
      },
      "file_extension": ".py",
      "mimetype": "text/x-python",
      "name": "python",
      "nbconvert_exporter": "python",
      "pygments_lexer": "ipython3",
      "version": "3.8"
    }
  },
  "nbformat_minor": 4,
  "nbformat": 4,
  "cells": [
    {
      "cell_type": "code",
      "source": "import numpy as np\nArr = np.array(( 2, 2));\nprint(\"the empty array 2X2 is : \" , Arr)\n\n\none_arr = np.ones((4 , 2));\nprint(\"the 4X2 array with ones are: \");\nprint(one_arr)\n\nArr_full = np.full((3,9),199);\nprint(\"the 3x9 array of value 199 is\");\nprint(Arr_full);\n\nArr_given = ([[2,8],[7,9]]);\nzero_array = np.zeros_like(Arr_given)\nprint(zero_array)\n\nArr_GIVEN = ([[2,3], [53,2],[32,42]]);\none_arr = np.ones_like(Arr_GIVEN);\nprint(\"ones array are\");\nprint(one_arr)\n\n\nnew_list=[1,3,5,5,7,8,9,0];\narrConvert = np.array(new_list);\nprint(\"the converted list into array is: \", arrConvert)\n\n",
      "metadata": {
        "trusted": true
      },
      "outputs": [
        {
          "name": "stdout",
          "text": "the empty array 2X2 is :  [2 2]\nthe 4X2 array with ones are: \n[[1. 1.]\n [1. 1.]\n [1. 1.]\n [1. 1.]]\nthe 3x9 array of value 199 is\n[[199 199 199 199 199 199 199 199 199]\n [199 199 199 199 199 199 199 199 199]\n [199 199 199 199 199 199 199 199 199]]\n[[0 0]\n [0 0]]\nones array are\n[[1 1]\n [1 1]\n [1 1]]\nthe converted list into array is:  [1 3 5 5 7 8 9 0]\n",
          "output_type": "stream"
        }
      ],
      "execution_count": 17
    },
    {
      "cell_type": "code",
      "source": "#problem 2\nimport numpy as np\narrangedArr= np.arange(10,50);\nprint(\"the arranged array are: \" , arrangedArr);\n\n\nMatric = np.arange(0,9);\narr_m = Matric.reshape(3,3);\nprint(\"the matric from 0 to 9 in 3x3 is \", arr_m)\n\nIdentityMatrix = np.eye(3);\nprint(\"the identity matrix is \\n\\n\" , IdentityMatrix)\n\n\nran_arr = np.random.random(30);\nmean_ran = ran_arr.mean()\nprint(\"the random array of 30 size and mean is \", ran_arr, mean_ran);\n\n\n\nran_ten = np.random.random((10,10));\nmin_val = ran_ten.min();\nmax_val = ran_ten.max();\n\nprint(\"the min value is :\" , min_val, \"max value is : \", max_val, \"of\", ran_ten)\n\n\n\nzero_arr = np.zeros(10);\nzero_arr[4] = 1\nprint(\"5th replaced by 1 element is\");\nprint(zero_arr);\n\n\n\narr = np.array([1,2,0,0,4,0])\nrev_arr = arr[::-1]\n\nprint(\"reversed array is \\n\", rev_arr)\n\n\n\n\narr= np.ones((5,5));\narr[1:-1,1:-1]=0\nprint(\"the array of 1 border is \")\nprint(arr);\n\ncheckerboard = np.zeros((8,8));\ncheckerboard[1::2,::2] = 1\ncheckerboard[::2,1::2] = 1\nprint(\"the checker baord is : \" , checkerboard);\n\n\n",
      "metadata": {
        "trusted": true
      },
      "outputs": [
        {
          "name": "stdout",
          "text": "the arranged array are:  [10 11 12 13 14 15 16 17 18 19 20 21 22 23 24 25 26 27 28 29 30 31 32 33\n 34 35 36 37 38 39 40 41 42 43 44 45 46 47 48 49]\nthe matric from 0 to 9 in 3x3 is  [[0 1 2]\n [3 4 5]\n [6 7 8]]\nthe identity matrix is \n\n [[1. 0. 0.]\n [0. 1. 0.]\n [0. 0. 1.]]\nthe random array of 30 size and mean is  [0.64973359 0.68833894 0.18251434 0.30249469 0.83266963 0.28501211\n 0.99663955 0.29876804 0.8836366  0.23915816 0.41616386 0.74882157\n 0.91870316 0.75067902 0.71603106 0.03754278 0.57508761 0.56884679\n 0.25381762 0.69009487 0.78734692 0.45728932 0.2807324  0.19887369\n 0.70441442 0.90276082 0.76086547 0.43913145 0.53679427 0.67191924] 0.5591627323222526\nthe min value is : 0.023204244703198706 max value is :  0.9894476871584769 of [[0.46333422 0.29843925 0.27216511 0.58856457 0.18427568 0.2190107\n  0.69385269 0.80771368 0.71673699 0.9757124 ]\n [0.58022707 0.38605799 0.98561815 0.40266027 0.24669308 0.84850071\n  0.302374   0.14890065 0.08419571 0.08698178]\n [0.38624349 0.75375258 0.12794927 0.36836591 0.77808957 0.98944769\n  0.55418468 0.48719087 0.05660949 0.32350621]\n [0.24668113 0.93832777 0.77628714 0.9874912  0.89726842 0.36394203\n  0.36050028 0.82252516 0.58749305 0.03824108]\n [0.02715425 0.15751818 0.58946409 0.45369275 0.16310672 0.32527244\n  0.89378148 0.37851784 0.65112482 0.87899089]\n [0.28316043 0.31167194 0.07091532 0.61950997 0.14759204 0.34400048\n  0.02510811 0.52715223 0.75440962 0.3501981 ]\n [0.98303296 0.33811003 0.77632874 0.61769694 0.11047925 0.43689434\n  0.02737461 0.68522527 0.27631855 0.02320424]\n [0.3768188  0.89976339 0.98753533 0.63814629 0.12056695 0.67161076\n  0.72700763 0.80731499 0.36610246 0.87110944]\n [0.28490456 0.33930459 0.64070919 0.24856589 0.30386421 0.32957731\n  0.16907147 0.43880153 0.65143364 0.10652113]\n [0.27546972 0.43405116 0.84809417 0.28540302 0.63618977 0.12858958\n  0.8610992  0.43179465 0.14503778 0.85140521]]\n5th replaced by 1 element is\n[0. 0. 0. 0. 1. 0. 0. 0. 0. 0.]\nreversed array is \n [0 4 0 0 2 1]\nthe array of 1 border is \n[[1. 1. 1. 1. 1.]\n [1. 0. 0. 0. 1.]\n [1. 0. 0. 0. 1.]\n [1. 0. 0. 0. 1.]\n [1. 1. 1. 1. 1.]]\nthe checker baord is :  [[0. 1. 0. 1. 0. 1. 0. 1.]\n [1. 0. 1. 0. 1. 0. 1. 0.]\n [0. 1. 0. 1. 0. 1. 0. 1.]\n [1. 0. 1. 0. 1. 0. 1. 0.]\n [0. 1. 0. 1. 0. 1. 0. 1.]\n [1. 0. 1. 0. 1. 0. 1. 0.]\n [0. 1. 0. 1. 0. 1. 0. 1.]\n [1. 0. 1. 0. 1. 0. 1. 0.]]\n",
          "output_type": "stream"
        }
      ],
      "execution_count": 47
    },
    {
      "cell_type": "code",
      "source": "#PROBLEM 3\nx = np.array([[1,2],[3,5]])\ny= np.array([[5,6],[7,8]]);\nv = np.array([9, 10])\nw = np.array([11, 12])\n\nadd = x + y;\n#sum\nprint(\"sum\" , add);\n\n#subtract\nsub = x-y;\nprint(\"sub\",sub);\n\n#multiply\nmultiply = x*55;\nprint(\"the multiplication is \" , multiply);\n\nsquare = np.square(x);\nprint(\"the sqaure is\", square);\n\n\n#dotproduct\ndot_pro= np.dot(v,w);\nprint(\"the dot product betn 2 numbers are : \" , dot_pro)\n\n\n\ndot_pro= np.dot(x,v);\nprint(\"the dot product betn 2 numbers are : \" , dot_pro)\n\n\ndot_pro= np.dot(x,y);\nprint(\"the dot product betn 2 numbers are : \" , dot_pro)\n\n\n\n#concatenate\nmat   = np.concatenate((x,y ), axis = 0);\nprint(mat);\nmat   = np.concatenate((v.reshape(-1,1) ), axis = 1);\nprint(mat);\n\n\n\n\n\n",
      "metadata": {
        "trusted": true
      },
      "outputs": [
        {
          "name": "stdout",
          "text": "sum [[ 6  8]\n [10 13]]\nsub [[-4 -4]\n [-4 -3]]\nthe multiplication is  [[ 55 110]\n [165 275]]\nthe sqaure is [[ 1  4]\n [ 9 25]]\nthe dot product betn 2 numbers are :  219\nthe dot product betn 2 numbers are :  [29 77]\nthe dot product betn 2 numbers are :  [[19 22]\n [50 58]]\n",
          "output_type": "stream"
        }
      ],
      "execution_count": 50
    },
    {
      "cell_type": "code",
      "source": "#PROBLEM 4\n\nimport numpy as np\n\nA = np.array([[3,4],[7,4]])\nB= np.array([[5,3],[2,1]])\n\n#A>A^-1 = I\nInverseA = np.linalg.inv(A);\n#prove a*a-1 = I\nI=np.dot(A, InverseA)\nprint(I)\n\n\n#AB cross muitply \n\nAB = np.dot(A, B);\nBA = np.dot(B,A);\n\n#AB = BA?\nequal = np.array_equal(AB,BA);\nprint(equal)\n\n\nTransAB = np.transpose(AB);\nBT = np.transpose(B);\nAT = np.transpose(A);\n\nBTAT = np.dot(BT, AT);\n\n#ABt = BTAT\nprint(TransAB)\nprint(BTAT)\n\n\nA = np.array([[2,-3,1],[1,-1,2],[3,1,-1]])\n\nB= np.array([-1,-3,9])\n\n\n# X = A-1*B\nInverseA = np.linalg.inv(A);\n\nX = np.dot(InverseA,B);\n\n#using inverse method\nprint(X[0])\nprint(X[1])\nprint(X[2])\n\n\n",
      "metadata": {
        "trusted": true
      },
      "outputs": [
        {
          "name": "stdout",
          "text": "[[1. 0.]\n [0. 1.]]\nFalse\n[[23 43]\n [13 25]]\n[[23 43]\n [13 25]]\n1.9999999999999998\n1.0000000000000004\n-1.9999999999999996\n",
          "output_type": "stream"
        }
      ],
      "execution_count": 64
    },
    {
      "cell_type": "code",
      "source": "#comparee\nimport time\n\nimport numpy as np\nsize=1000000\n\nlist1 = [i for i in range(size)]\nlist2 = [i *2 for i in range(size)]\n\nstart = time.time()\nsum = [list1[i]+ list2[i] for i in range(size)];\nend= time.time()\n\nprint(f\"the addition of elements took: {end - start:.8f} seconds\")\n\n\narr1 = np.arange(size)\narr2= np.arange(size)*2\nstart = time.time()\nsum = arr1 + arr2\nend = time.time()\nprint(f\"the addition of elements took: {end - start:.8f} seconds\")\n\n\n\nstart = time.time()\n\nlist_pro = [list1[i] * list2[i] for i in range(size)]\nend = time.time()\n\nprint(f\"the multiplication of elements took: {end - start:.8f} seconds\")\n\n\nstart = time.time()\narr_pro = arr1 + arr2\nend = time.time()\n\nprint(f\"the multiplication of elements took: {end - start:.8f} seconds\")\n\n#dot product\nstart = time.time()\ndot_pro = np.dot(list1, list2)\nend = time.time()\nprint(f\"the product of elements took: {end - start:.8f} seconds\")\n\n\n\nstart = time.time()\ndot_pro = [[sum(list1[i] * list2[i] for i in range(size))]]\nend = time.time()\nend = time.time()\nprint(f\"the product of elements took: {end - start:.8f} seconds\")\n\n\n# start = time.time()\n# dot_pro = np.dot(list1, list2)\n# end = time.time()\n# print(f\"the product of elements took: {end - start:.8f} seconds\")\n\n\n\n#matrix multiplication\n#numpy\nsize = 1000\nA = np.random.randint(1,10,(size, size))\nB= np.random.randint(1,10,(size, size))\n\nstart = time.time()\nnp.dot(A,B)\nend = time.time()\n\nprint(f\"The matrix mulitplicaiton took {end - start:.8f} seconds\")\n\n\n#matrix multiplication\n#normal\n\n\nmat_a = [[i for i in range(size)] for j in range(size)]\nmat_b = [[i + 1 for i in range(size)] for j in range(size)]\n\nstart_time = time.time()\nproduct_matrix = [[sum(mat_a[i][k] * mat_b[k][j] for k in range(size)) for j in range(size)] for i in range(size)]\nend_time = time.time()\nlist_multiplication_time = end_time - start_time\nprint(f\"Time taken for matrix multiplication using lists: {list_multiplication_time:.5f} seconds\")\n\nrand_mat1 = np.random.rand(size, size)\nrand_mat2 = np.random.rand(size, size)\n\nstart_time2 = time.time()\nproduct_numpy = np.dot(rand_mat1, rand_mat2)\nend_time2 = time.time()\nnumpy_multiplication_time = end_time2 - start_time2\nprint(f\"Time taken for matrix multiplication using NumPy: {numpy_multiplication_time:.5f} seconds\")\n\n\n\n",
      "metadata": {
        "trusted": true
      },
      "outputs": [
        {
          "name": "stdout",
          "text": "the addition of elements took: 0.11000013 seconds\nthe addition of elements took: 0.03100014 seconds\nthe multiplication of elements took: 0.14700007 seconds\nthe multiplication of elements took: 0.00199986 seconds\nthe product of elements took: 0.17100000 seconds\n",
          "output_type": "stream"
        },
        {
          "ename": "<class 'TypeError'>",
          "evalue": "'numpy.ndarray' object is not callable",
          "traceback": [
            "\u001b[0;31m---------------------------------------------------------------------------\u001b[0m",
            "\u001b[0;31mTypeError\u001b[0m                                 Traceback (most recent call last)",
            "Cell \u001b[0;32mIn[11], line 49\u001b[0m\n\u001b[1;32m     44\u001b[0m \u001b[38;5;28mprint\u001b[39m(\u001b[38;5;124mf\u001b[39m\u001b[38;5;124m\"\u001b[39m\u001b[38;5;124mthe product of elements took: \u001b[39m\u001b[38;5;132;01m{\u001b[39;00mend\u001b[38;5;250m \u001b[39m\u001b[38;5;241m-\u001b[39m\u001b[38;5;250m \u001b[39mstart\u001b[38;5;132;01m:\u001b[39;00m\u001b[38;5;124m.8f\u001b[39m\u001b[38;5;132;01m}\u001b[39;00m\u001b[38;5;124m seconds\u001b[39m\u001b[38;5;124m\"\u001b[39m)\n\u001b[1;32m     48\u001b[0m start \u001b[38;5;241m=\u001b[39m time\u001b[38;5;241m.\u001b[39mtime()\n\u001b[0;32m---> 49\u001b[0m dot_pro \u001b[38;5;241m=\u001b[39m [[\u001b[38;5;28;43msum\u001b[39;49m\u001b[43m(\u001b[49m\u001b[43mlist1\u001b[49m\u001b[43m[\u001b[49m\u001b[43mi\u001b[49m\u001b[43m]\u001b[49m\u001b[43m \u001b[49m\u001b[38;5;241;43m*\u001b[39;49m\u001b[43m \u001b[49m\u001b[43mlist2\u001b[49m\u001b[43m[\u001b[49m\u001b[43mi\u001b[49m\u001b[43m]\u001b[49m\u001b[43m \u001b[49m\u001b[38;5;28;43;01mfor\u001b[39;49;00m\u001b[43m \u001b[49m\u001b[43mi\u001b[49m\u001b[43m \u001b[49m\u001b[38;5;129;43;01min\u001b[39;49;00m\u001b[43m \u001b[49m\u001b[38;5;28;43mrange\u001b[39;49m\u001b[43m(\u001b[49m\u001b[43msize\u001b[49m\u001b[43m)\u001b[49m\u001b[43m)\u001b[49m]]\n\u001b[1;32m     50\u001b[0m end \u001b[38;5;241m=\u001b[39m time\u001b[38;5;241m.\u001b[39mtime()\n\u001b[1;32m     51\u001b[0m end \u001b[38;5;241m=\u001b[39m time\u001b[38;5;241m.\u001b[39mtime()\n",
            "\u001b[0;31mTypeError\u001b[0m: 'numpy.ndarray' object is not callable"
          ],
          "output_type": "error"
        }
      ],
      "execution_count": 11
    },
    {
      "cell_type": "code",
      "source": "",
      "metadata": {
        "trusted": true
      },
      "outputs": [
        {
          "ename": "<class 'TypeError'>",
          "evalue": "'numpy.ndarray' object is not callable",
          "traceback": [
            "\u001b[0;31m---------------------------------------------------------------------------\u001b[0m",
            "\u001b[0;31mTypeError\u001b[0m                                 Traceback (most recent call last)",
            "Cell \u001b[0;32mIn[10], line 11\u001b[0m\n\u001b[1;32m      8\u001b[0m mat_b \u001b[38;5;241m=\u001b[39m [[i \u001b[38;5;241m+\u001b[39m \u001b[38;5;241m1\u001b[39m \u001b[38;5;28;01mfor\u001b[39;00m i \u001b[38;5;129;01min\u001b[39;00m \u001b[38;5;28mrange\u001b[39m(size)] \u001b[38;5;28;01mfor\u001b[39;00m j \u001b[38;5;129;01min\u001b[39;00m \u001b[38;5;28mrange\u001b[39m(size)]\n\u001b[1;32m     10\u001b[0m start_time \u001b[38;5;241m=\u001b[39m time\u001b[38;5;241m.\u001b[39mtime()\n\u001b[0;32m---> 11\u001b[0m product_matrix \u001b[38;5;241m=\u001b[39m [[\u001b[38;5;28;43msum\u001b[39;49m\u001b[43m(\u001b[49m\u001b[43mmat_a\u001b[49m\u001b[43m[\u001b[49m\u001b[43mi\u001b[49m\u001b[43m]\u001b[49m\u001b[43m[\u001b[49m\u001b[43mk\u001b[49m\u001b[43m]\u001b[49m\u001b[43m \u001b[49m\u001b[38;5;241;43m*\u001b[39;49m\u001b[43m \u001b[49m\u001b[43mmat_b\u001b[49m\u001b[43m[\u001b[49m\u001b[43mk\u001b[49m\u001b[43m]\u001b[49m\u001b[43m[\u001b[49m\u001b[43mj\u001b[49m\u001b[43m]\u001b[49m\u001b[43m \u001b[49m\u001b[38;5;28;43;01mfor\u001b[39;49;00m\u001b[43m \u001b[49m\u001b[43mk\u001b[49m\u001b[43m \u001b[49m\u001b[38;5;129;43;01min\u001b[39;49;00m\u001b[43m \u001b[49m\u001b[38;5;28;43mrange\u001b[39;49m\u001b[43m(\u001b[49m\u001b[43msize\u001b[49m\u001b[43m)\u001b[49m\u001b[43m)\u001b[49m \u001b[38;5;28;01mfor\u001b[39;00m j \u001b[38;5;129;01min\u001b[39;00m \u001b[38;5;28mrange\u001b[39m(size)] \u001b[38;5;28;01mfor\u001b[39;00m i \u001b[38;5;129;01min\u001b[39;00m \u001b[38;5;28mrange\u001b[39m(size)]\n\u001b[1;32m     12\u001b[0m end_time \u001b[38;5;241m=\u001b[39m time\u001b[38;5;241m.\u001b[39mtime()\n\u001b[1;32m     13\u001b[0m list_multiplication_time \u001b[38;5;241m=\u001b[39m end_time \u001b[38;5;241m-\u001b[39m start_time\n",
            "\u001b[0;31mTypeError\u001b[0m: 'numpy.ndarray' object is not callable"
          ],
          "output_type": "error"
        }
      ],
      "execution_count": 10
    },
    {
      "cell_type": "code",
      "source": "",
      "metadata": {
        "trusted": true
      },
      "outputs": [
        {
          "ename": "<class 'TypeError'>",
          "evalue": "'numpy.ndarray' object is not callable",
          "traceback": [
            "\u001b[0;31m---------------------------------------------------------------------------\u001b[0m",
            "\u001b[0;31mTypeError\u001b[0m                                 Traceback (most recent call last)",
            "Cell \u001b[0;32mIn[86], line 17\u001b[0m\n\u001b[1;32m     15\u001b[0m \u001b[38;5;66;03m# Measure time for matrix multiplication using Python lists\u001b[39;00m\n\u001b[1;32m     16\u001b[0m start \u001b[38;5;241m=\u001b[39m time\u001b[38;5;241m.\u001b[39mtime()\n\u001b[0;32m---> 17\u001b[0m \u001b[43mmatrix_multiply_lists\u001b[49m\u001b[43m(\u001b[49m\u001b[43mA\u001b[49m\u001b[43m,\u001b[49m\u001b[43m \u001b[49m\u001b[43mB\u001b[49m\u001b[43m)\u001b[49m\n\u001b[1;32m     18\u001b[0m end \u001b[38;5;241m=\u001b[39m time\u001b[38;5;241m.\u001b[39mtime()\n\u001b[1;32m     20\u001b[0m \u001b[38;5;28mprint\u001b[39m(\u001b[38;5;124mf\u001b[39m\u001b[38;5;124m\"\u001b[39m\u001b[38;5;124mMatrix multiplication with Python lists took: \u001b[39m\u001b[38;5;132;01m{\u001b[39;00mend\u001b[38;5;250m \u001b[39m\u001b[38;5;241m-\u001b[39m\u001b[38;5;250m \u001b[39mstart\u001b[38;5;132;01m:\u001b[39;00m\u001b[38;5;124m.8f\u001b[39m\u001b[38;5;132;01m}\u001b[39;00m\u001b[38;5;124m seconds\u001b[39m\u001b[38;5;124m\"\u001b[39m)\n",
            "Cell \u001b[0;32mIn[86], line 8\u001b[0m, in \u001b[0;36mmatrix_multiply_lists\u001b[0;34m(A, B)\u001b[0m\n\u001b[1;32m      6\u001b[0m size \u001b[38;5;241m=\u001b[39m \u001b[38;5;28mlen\u001b[39m(A)\n\u001b[1;32m      7\u001b[0m \u001b[38;5;66;03m# Resulting matrix initialized to 0s\u001b[39;00m\n\u001b[0;32m----> 8\u001b[0m \u001b[38;5;28;01mreturn\u001b[39;00m [[\u001b[38;5;28;43msum\u001b[39;49m\u001b[43m(\u001b[49m\u001b[43mA\u001b[49m\u001b[43m[\u001b[49m\u001b[43mi\u001b[49m\u001b[43m]\u001b[49m\u001b[43m[\u001b[49m\u001b[43mk\u001b[49m\u001b[43m]\u001b[49m\u001b[43m \u001b[49m\u001b[38;5;241;43m*\u001b[39;49m\u001b[43m \u001b[49m\u001b[43mB\u001b[49m\u001b[43m[\u001b[49m\u001b[43mk\u001b[49m\u001b[43m]\u001b[49m\u001b[43m[\u001b[49m\u001b[43mj\u001b[49m\u001b[43m]\u001b[49m\u001b[43m \u001b[49m\u001b[38;5;28;43;01mfor\u001b[39;49;00m\u001b[43m \u001b[49m\u001b[43mk\u001b[49m\u001b[43m \u001b[49m\u001b[38;5;129;43;01min\u001b[39;49;00m\u001b[43m \u001b[49m\u001b[38;5;28;43mrange\u001b[39;49m\u001b[43m(\u001b[49m\u001b[43msize\u001b[49m\u001b[43m)\u001b[49m\u001b[43m)\u001b[49m \u001b[38;5;28;01mfor\u001b[39;00m j \u001b[38;5;129;01min\u001b[39;00m \u001b[38;5;28mrange\u001b[39m(size)] \u001b[38;5;28;01mfor\u001b[39;00m i \u001b[38;5;129;01min\u001b[39;00m \u001b[38;5;28mrange\u001b[39m(size)]\n",
            "\u001b[0;31mTypeError\u001b[0m: 'numpy.ndarray' object is not callable"
          ],
          "output_type": "error"
        }
      ],
      "execution_count": 86
    },
    {
      "cell_type": "code",
      "source": "",
      "metadata": {
        "trusted": true
      },
      "outputs": [],
      "execution_count": null
    }
  ]
}